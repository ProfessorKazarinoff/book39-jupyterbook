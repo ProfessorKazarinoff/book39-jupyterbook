{
 "cells": [
  {
   "cell_type": "markdown",
   "metadata": {},
   "source": [
    "## Introduction"
   ]
  },
  {
   "cell_type": "markdown",
   "metadata": {
    "latex": {
     "after_cell": "newpage"
    }
   },
   "source": [
    "Repetition structures allow the same piece of code to run multiple times. Two repetition structures in Python are _for loops_ and _while loops_. _For loops_ run a set number of times. _While loops_ run as long as a specific logical condition is true.\n",
    "\n",
    "By the end of this chapter, you will be able to:\n",
    "\n",
    " * Use a for loop\n",
    " \n",
    " * Use a while loop\n",
    " \n",
    " * Use the break statement\n",
    " \n",
    " * Use the continue statement\n",
    " \n",
    " * Construct flowcharts that describe programs with loops"
   ]
  }
 ],
 "metadata": {
  "kernelspec": {
   "display_name": "Python 3",
   "language": "python",
   "name": "python3"
  },
  "language_info": {
   "codemirror_mode": {
    "name": "ipython",
    "version": 3
   },
   "file_extension": ".py",
   "mimetype": "text/x-python",
   "name": "python",
   "nbconvert_exporter": "python",
   "pygments_lexer": "ipython3",
   "version": "3.7.3"
  }
 },
 "nbformat": 4,
 "nbformat_minor": 2
}
