{
 "cells": [
  {
   "cell_type": "markdown",
   "metadata": {
    "latex": {
     "before_cell": "newpage"
    }
   },
   "source": [
    "## Summary"
   ]
  },
  {
   "cell_type": "markdown",
   "metadata": {},
   "source": [
    "Repetition structures allow the same piece of code to run multiple times. \n",
    "\n",
    "In this chapter, you learned how to write for loops and while loops in Python. For loops run a block of code a specific number of times. You learned how to use Python's ```range()``` function in a for loop and how to use a list or string in a for loop. A while loop runs a block of code as long as a logical condition is true. The keywords ```break``` and ```continue``` cause for and while loops to exit early. \n",
    "\n",
    "At the end of the chapter, you learned how to build flowcharts that describe programs with for loops and while loops."
   ]
  },
  {
   "cell_type": "markdown",
   "metadata": {},
   "source": [
    "### Python Commands\n",
    "\n",
    "| Command | Description |\n",
    "| --- | --- |\n",
    "| ```for``` | define a for loop |\n",
    "| ```while``` | define a while loop |\n",
    "| ```break``` | exit a loop early |\n",
    "| ```continue``` | jump to the start of the loop |\n"
   ]
  },
  {
   "cell_type": "markdown",
   "metadata": {},
   "source": [
    "### Key Terms and Concepts"
   ]
  },
  {
   "cell_type": "markdown",
   "metadata": {
    "latex": {
     "environment": "key_terms"
    }
   },
   "source": [
    "repetition structure\n",
    "\n",
    "loop\n",
    "\n",
    "while loop\n",
    "\n",
    "for loop\n",
    "\n",
    "iterate\n",
    "\n",
    "iterable\n",
    "\n",
    "break\n",
    "\n",
    "continue\n",
    "\n",
    "infinite loop\n",
    "\n",
    "flowchart"
   ]
  }
 ],
 "metadata": {
  "celltoolbar": "Edit Metadata",
  "kernelspec": {
   "display_name": "Python 3",
   "language": "python",
   "name": "python3"
  },
  "language_info": {
   "codemirror_mode": {
    "name": "ipython",
    "version": 3
   },
   "file_extension": ".py",
   "mimetype": "text/x-python",
   "name": "python",
   "nbconvert_exporter": "python",
   "pygments_lexer": "ipython3",
   "version": "3.9.12"
  }
 },
 "nbformat": 4,
 "nbformat_minor": 2
}
