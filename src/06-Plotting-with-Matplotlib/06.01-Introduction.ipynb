{
 "cells": [
  {
   "cell_type": "markdown",
   "metadata": {},
   "source": [
    "## Introduction"
   ]
  },
  {
   "cell_type": "markdown",
   "metadata": {},
   "source": [
    "Problem solvers collect data and make conclusions based on the results. One way to view results is with plots, chars and graphs. Plots can reveal trends in data and outliers. Plots are a way to visually communicate results with your team, supervisors, and customers. This chapter is all about plotting with a Python package called Matplotlib. Matplotlib is a popular plotting library for Python."
   ]
  },
  {
   "cell_type": "markdown",
   "metadata": {
    "latex": {
     "after_cell": "newpage"
    }
   },
   "source": [
    "By the end of this chapter you will be able to:\n",
    "\n",
    " * Import Matplotlib into a Python script or Jupyter notebook\n",
    "\n",
    " * Construct line plots with Matplotlib\n",
    "\n",
    " * Use Matplotlib's object-oriented interface\n",
    "\n",
    " * Construct bar charts and pie charts with Matplotlib\n",
    "\n",
    " * Add error bars to bar charts and line plots\n",
    "\n",
    " * Plot histograms\n",
    " \n",
    " * Make box plots and violin plots\n",
    "\n",
    " * Plot contours\n",
    " \n",
    " * Create quiver plots and stream plots\n",
    "\n",
    " * Construct 3D mesh grid plots\n"
   ]
  }
 ],
 "metadata": {
  "kernelspec": {
   "display_name": "Python 3",
   "language": "python",
   "name": "python3"
  },
  "language_info": {
   "codemirror_mode": {
    "name": "ipython",
    "version": 3
   },
   "file_extension": ".py",
   "mimetype": "text/x-python",
   "name": "python",
   "nbconvert_exporter": "python",
   "pygments_lexer": "ipython3",
   "version": "3.6.8"
  }
 },
 "nbformat": 4,
 "nbformat_minor": 2
}
