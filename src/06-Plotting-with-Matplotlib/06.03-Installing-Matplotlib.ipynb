{
 "cells": [
  {
   "cell_type": "markdown",
   "metadata": {},
   "source": [
    "## Installing Matplotlib"
   ]
  },
  {
   "cell_type": "markdown",
   "metadata": {},
   "source": [
    "Before Matplotlib's plotting functions can be used, Matplotlib needs to be installed. Depending on which distribution of Python is installed on your computer, the installation methods are slightly different. Three Matplotlib installation methods are described below:\n",
    "\n",
    " * Use the Anaconda distribution of Python\n",
    " * Install Matplotlib with the **Anaconda Prompt**\n",
    " * Install Matplotlib with **pip**\n",
    " "
   ]
  },
  {
   "cell_type": "markdown",
   "metadata": {},
   "source": [
    "### Use the Anaconda distribution of Python\n",
    "\n",
    "The simplest way to install Matplotlib is to download and install the Anaconda distribution of Python. The Anaconda distribution of Python comes with Matplotlib pre-installed, and no further installation steps are necessary.\n",
    "\n",
    "Below are additional methods to install Matplotlib if you are not using the Anaconda distribution of Python."
   ]
  },
  {
   "cell_type": "markdown",
   "metadata": {},
   "source": [
    "### Install Matplotlib with the Anaconda Prompt\n",
    "\n",
    "Matplotlib can be installed using with the **Anaconda Prompt**. If the **Anaconda Prompt** is available on your machine, you can open it using the Windows Start Menu. To install Matplotlib, open the **Anaconda Prompt** and type:\n",
    "\n",
    "```text\n",
    "> conda install matplotlib\n",
    "```\n",
    "\n",
    "Type ```y``` for yes when prompted."
   ]
  },
  {
   "cell_type": "markdown",
   "metadata": {},
   "source": [
    "### Install Matplotlib with **pip**\n",
    "\n",
    "Matplotlib can also be installed using the Python package manager, **pip**. To install Matplotlib with **pip**, open a terminal and type:\n",
    "\n",
    "```text\n",
    "$ pip install matplotlib\n",
    "```\n",
    "\n",
    "This command installs Matplotlib in the current working Python environment."
   ]
  },
  {
   "cell_type": "markdown",
   "metadata": {},
   "source": [
    "### Verify the installation\n",
    "\n",
    "To verify that Matplotlib is installed, try to invoke Matplotlib's version at the Python REPL. Use the commands below that include calling the ```.__version__``` an attribute common to most Python packages.\n",
    "\n",
    "```python\n",
    ">>> import matplotlib\n",
    ">>> matplotlib.__version__\n",
    "'3.5.1'\n",
    "```\n"
   ]
  }
 ],
 "metadata": {
  "kernelspec": {
   "display_name": "Python 3",
   "language": "python",
   "name": "python3"
  },
  "language_info": {
   "codemirror_mode": {
    "name": "ipython",
    "version": 3
   },
   "file_extension": ".py",
   "mimetype": "text/x-python",
   "name": "python",
   "nbconvert_exporter": "python",
   "pygments_lexer": "ipython3",
   "version": "3.9.12"
  }
 },
 "nbformat": 4,
 "nbformat_minor": 2
}
