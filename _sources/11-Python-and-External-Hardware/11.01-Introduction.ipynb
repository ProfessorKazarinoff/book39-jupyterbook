{
 "cells": [
  {
   "cell_type": "markdown",
   "metadata": {},
   "source": [
    "## Introduction"
   ]
  },
  {
   "cell_type": "markdown",
   "metadata": {},
   "source": [
    "Python can be used to run programs on your computer. But Python can also be used to interact with external hardware like lights, switches and sensors. In this chapter, you will learn how to incorporate external hardware into your Python programs."
   ]
  },
  {
   "cell_type": "markdown",
   "metadata": {
    "latex": {
     "after_cell": "newpage"
    }
   },
   "source": [
    "By the end of this chapter, you will be able to:\n",
    "\n",
    " * Connect external hardware to a computer running Python\n",
    " \n",
    " * Install the PySerial library\n",
    " \n",
    " * Read data over a serial connection using Python\n",
    " \n",
    " * Save data coming in over a serial connection using Python\n",
    " \n",
    " * Write data to a serial line using Python\n",
    " \n",
    " * Read data from a sensor using Python\n",
    " \n",
    " * Control an LED using Python"
   ]
  }
 ],
 "metadata": {
  "kernelspec": {
   "display_name": "Python 3",
   "language": "python",
   "name": "python3"
  },
  "language_info": {
   "codemirror_mode": {
    "name": "ipython",
    "version": 3
   },
   "file_extension": ".py",
   "mimetype": "text/x-python",
   "name": "python",
   "nbconvert_exporter": "python",
   "pygments_lexer": "ipython3",
   "version": "3.6.8"
  }
 },
 "nbformat": 4,
 "nbformat_minor": 2
}
