{
 "cells": [
  {
   "cell_type": "markdown",
   "metadata": {},
   "source": [
    "## Problem Solving with Python Book Construction"
   ]
  },
  {
   "cell_type": "markdown",
   "metadata": {},
   "source": [
    "### Jupyter Notebooks"
   ]
  },
  {
   "cell_type": "markdown",
   "metadata": {},
   "source": [
    "This book was constructed using Jupyter notebooks. The GitHub.com repo for the book can be found at:\n",
    "    \n",
    " > [github.com/ProfessorKazarinoff/Problem-Solving-with-Python-39-Edition](https://github.com/ProfessorKazarinoff/Problem-Solving-with-Python-39-Edition)"
   ]
  },
  {
   "cell_type": "markdown",
   "metadata": {},
   "source": [
    "The directory structure of the GitHub repo contains all the Jupyter notebooks used the write the book. The repo also contains a set of custom conversion scripts and templates which convert the Jupyuter notebooks into **_.html_** and **_.tex_** files."
   ]
  },
  {
   "cell_type": "markdown",
   "metadata": {},
   "source": [
    "```text\n",
    "Problem-Solving-with-Python-39-Edition/\n",
    "|-- src/\n",
    "|-- templates/\n",
    "|-- LICENSE-CODE\n",
    "|-- LICENSE-TEXT\n",
    "|-- README.md\n",
    "|-- requirements.txt\n",
    "|-- runtime.txt\n",
    "|-- tasks.py\n",
    "```"
   ]
  },
  {
   "cell_type": "markdown",
   "metadata": {},
   "source": [
    "The ```notebooks``` directory contains a directory for each chapter of the book:"
   ]
  },
  {
   "cell_type": "markdown",
   "metadata": {},
   "source": [
    "```text\n",
    "src/\n",
    "|-- 00-Preface/\n",
    "|-- 01-Orientation/\n",
    "|-- 02-Jupyter-Notebooks/\n",
    "|-- 03-The-Python-REPL/\n",
    "|-- 04-Data-Types-and-Variables/\n",
    "|-- 05-NumPy-and-Arrays/\n",
    "|-- 06-Plotting-with-Matplotlib/\n",
    "|-- 07-Functions-and-Modules/\n",
    "|-- 08-If-Else-Try-Except/\n",
    "|-- 09-Loops/\n",
    "|-- 10-Symbolic-Math/\n",
    "|-- 11-Python-and-External-Hardware/\n",
    "|-- 12-MicroPython/\n",
    "|-- 99-Appendix/\n",
    "`-- figures/\n",
    "```\n",
    "\n",
    "There is a Jupyter notebook for each section of the book within each chapter directory. Each chapter directory contains an ```images``` directory for any images used in the markdown cells of the notebooks.\n",
    "\n",
    "```text\n",
    "01-Orientation/\n",
    "|-- 01.00-Orientation.ipynb\n",
    "|-- 01.01-Introduction.ipynb\n",
    "|-- 01.02-Why-Python.ipynb\n",
    "|-- 01.03-The-Anaconda-Distribution-of-Python.ipynb\n",
    "|-- 01.04-Installing-Anaconda-on-Windows.ipynb\n",
    "|-- 01.05-Installing-Anaconda-on-MacOS.ipynb\n",
    "|-- 01.06-Installing-Anaconda-on-Linux.ipynb\n",
    "|-- 01.07-Installing-Python-from-Python-dot-org.ipynb\n",
    "|-- 01.08-Summary.ipynb\n",
    "|-- 01.09-Review-Questions.ipynb\n",
    "`-- images/\n",
    "```\n"
   ]
  },
  {
   "cell_type": "markdown",
   "metadata": {},
   "source": [
    "### Website"
   ]
  },
  {
   "cell_type": "markdown",
   "metadata": {},
   "source": [
    "The website for this book was constructed using **JupyterBook** (https://jupyterbook.org/) and the **Sphinx Book Theme** (https://sphinx-book-theme.readthedocs.io/) theme. Jupyter notebooks were exported to **_.html_** files using Jupyter Book's command line interface."
   ]
  },
  {
   "cell_type": "markdown",
   "metadata": {},
   "source": [
    "### Hardcopy"
   ]
  },
  {
   "cell_type": "markdown",
   "metadata": {},
   "source": [
    "The hard copy of the book was constructed using LaTeX, **nbconvert** and a set of custom scripts and templates. One conversion script combined all of the notebooks into one BIG notebook. The BIG notebook was then converted into LaTeX using **nbconvert** and a custom template. Outside of the Python ecosystem, a separate installation of TeXworks compiled the LaTeX **_.tex_** files to a **_.pdf_** document."
   ]
  }
 ],
 "metadata": {
  "kernelspec": {
   "display_name": "Python 3",
   "language": "python",
   "name": "python3"
  },
  "language_info": {
   "codemirror_mode": {
    "name": "ipython",
    "version": 3
   },
   "file_extension": ".py",
   "mimetype": "text/x-python",
   "name": "python",
   "nbconvert_exporter": "python",
   "pygments_lexer": "ipython3",
   "version": "3.7.3"
  }
 },
 "nbformat": 4,
 "nbformat_minor": 2
}
