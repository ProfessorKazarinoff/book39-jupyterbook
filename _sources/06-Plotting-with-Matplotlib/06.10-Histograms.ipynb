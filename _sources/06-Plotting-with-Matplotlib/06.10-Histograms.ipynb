{
 "cells": [
  {
   "cell_type": "markdown",
   "metadata": {},
   "source": [
    "## Histograms"
   ]
  },
  {
   "cell_type": "markdown",
   "metadata": {},
   "source": [
    "Histograms are a useful type of statistics plot for problem solvers. A histogram is a type of bar plot that shows the frequency or number of values compared to a set of value ranges."
   ]
  },
  {
   "cell_type": "markdown",
   "metadata": {},
   "source": [
    "Matplotlib's ```ax.hist()``` function creates histogram plots. The first argument passed to ```ax.hist()``` corresponds to the list or array of values to plot. The second argument corresponds to the number of bins, or number of bars on the histogram. The general format of Matplotlib's ```ax.hist()``` method is below.\n",
    "\n",
    "```python\n",
    "ax.hist(data, num_bins)\n",
    "```\n"
   ]
  },
  {
   "cell_type": "markdown",
   "metadata": {},
   "source": [
    "### Histogram example"
   ]
  },
  {
   "cell_type": "markdown",
   "metadata": {},
   "source": [
    "In this histogram plot example, we'll use NumPy's ```np.random.normal()``` function to create an array of random numbers with a normal distribution. The three arguments passed to NumPy's ```np.random.normal()``` function are ```mu``` (mean), ```sigma``` (standard deviation) and ```size= ``` (length of the array).\n",
    "\n",
    "In this example, we'll specify ```20``` bins (```20``` bars).\n",
    "\n",
    "The line ```plt.style.use('fivethirtyeight')``` is included to style the plot to look like plots on [fivethirtyeight.com](https://fivethirtyeight.com). Matplotlib styles are addressed in a subsequent section of this chapter.\n",
    "\n",
    "The code section below builds a histogram that contains 20 bins."
   ]
  },
  {
   "cell_type": "code",
   "execution_count": 1,
   "metadata": {},
   "outputs": [
    {
     "data": {
      "image/png": "[encoded data removed]",
      "text/plain": [
       "<Figure size 432x288 with 1 Axes>"
      ]
     },
     "metadata": {},
     "output_type": "display_data"
    }
   ],
   "source": [
    "import numpy as np\n",
    "import matplotlib.pyplot as plt\n",
    "# if using a Jupyter notebook, include:\n",
    "%matplotlib inline\n",
    "\n",
    "plt.style.use('fivethirtyeight')\n",
    "\n",
    "mu = 80\n",
    "sigma = 7\n",
    "x = np.random.normal(mu, sigma, size=200)\n",
    "\n",
    "fig, ax = plt.subplots()\n",
    "\n",
    "ax.hist(x, 20)\n",
    "ax.set_title('Historgram')\n",
    "ax.set_xlabel('bin range')\n",
    "ax.set_ylabel('frequency')\n",
    "\n",
    "fig.tight_layout()\n",
    "plt.show()\n"
   ]
  },
  {
   "cell_type": "markdown",
   "metadata": {},
   "source": [
    "The resulting histogram has 20 bars and shows a roughly normal distribution."
   ]
  }
 ],
 "metadata": {
  "kernelspec": {
   "display_name": "Python 3",
   "language": "python",
   "name": "python3"
  },
  "language_info": {
   "codemirror_mode": {
    "name": "ipython",
    "version": 3
   },
   "file_extension": ".py",
   "mimetype": "text/x-python",
   "name": "python",
   "nbconvert_exporter": "python",
   "pygments_lexer": "ipython3",
   "version": "3.9.12"
  }
 },
 "nbformat": 4,
 "nbformat_minor": 2
}
