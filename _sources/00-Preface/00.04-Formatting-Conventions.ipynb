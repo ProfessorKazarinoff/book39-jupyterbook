{
 "cells": [
  {
   "cell_type": "markdown",
   "metadata": {},
   "source": [
    "## Formatting Conventions"
   ]
  },
  {
   "cell_type": "markdown",
   "metadata": {},
   "source": [
    "This book and supporting materials use the following formatting conventions."
   ]
  },
  {
   "cell_type": "markdown",
   "metadata": {},
   "source": [
    "### Web Address\n",
    "\n",
    "Web address will be shown as:\n",
    "\n",
    " > [https://pythonforundergradengineers.com](https://pythonforundergradengineers.com)"
   ]
  },
  {
   "cell_type": "markdown",
   "metadata": {},
   "source": [
    "### Important terms and vocabulary\n",
    " \n",
    "Important terms and vocabulary are shown in _italic text_.\n",
    "\n",
    " > There is a difference between _local variables_ and _global variables_ in Python code."
   ]
  },
  {
   "cell_type": "markdown",
   "metadata": {},
   "source": [
    "### File Names\n",
    " \n",
    "File names are shown in **_bold and italic text_**.\n",
    "\n",
    " > After completing the code, save the file as **_hello.py_** in the current directory."
   ]
  },
  {
   "cell_type": "markdown",
   "metadata": {},
   "source": [
    "### Module and Package Names\n",
    " \n",
    "Module and Package names are shown in **bold text**.\n",
    "\n",
    " > **NumPy** and **Matplotlib** are two useful packages for problem solvers."
   ]
  },
  {
   "cell_type": "markdown",
   "metadata": {},
   "source": [
    "### Code blocks\n",
    "  \n",
    "Code blocks appear in separate sections in ```monospaced font```.\n",
    "\n",
    "```python\n",
    "import numpy as np\n",
    "import pandas as pd\n",
    "import matplotlib.pyplot as plt\n",
    "```\n"
   ]
  },
  {
   "cell_type": "markdown",
   "metadata": {},
   "source": [
    "### Anaconda Prompt Commands\n",
    " \n",
    "Commands typed into the **Anaconda Prompt** are shown in separate sections which contain the prompt symbol ```>``` before each line. Note the prompt ```>``` should not be typed. The prompt symbol is included to indicate **Anaconda Prompt**, not a character to type.\n",
    "\n",
    "```text\n",
    "> conda create -n env python=3.8\n",
    "> conda activate env\n",
    "```\n"
   ]
  },
  {
   "cell_type": "markdown",
   "metadata": {},
   "source": [
    "### Python REPL Commands\n",
    "\n",
    "Commands typed into the **Python REPL** (the Python Interpreter) appear in separate code sections, which contain the triple arrow prompt ```>>>``` . Note the triple arrow ```>>>``` prompt should not be typed. Triple arrows are included to indicate the Python REPL prompt, not a character for the user to type. The output from the Python REPL is shown on a separate line below the command, without the ```>>>``` prompt.\n",
    "\n",
    "```python\n",
    ">>> 2 + 2\n",
    "4\n",
    ">>> print('Problem Solving with Python')\n",
    "Problem Solving with Python\n",
    "```\n"
   ]
  },
  {
   "cell_type": "markdown",
   "metadata": {},
   "source": [
    "### Jupyter Notebook cells\n",
    "\n",
    "Commands typed into Jupyter notebook cells appear with the label ```In [#]:``` to the left of the code section. The output from Jupyter notebook cells is shown below the input cell. Only code in the input cells needs to be typed. Output cells are produced automatically by clicking the run button or typing ```[shift]+[Enter]```."
   ]
  },
  {
   "cell_type": "code",
   "execution_count": 1,
   "metadata": {},
   "outputs": [
    {
     "name": "stdout",
     "output_type": "stream",
     "text": [
      "5\n"
     ]
    }
   ],
   "source": [
    "a = 2\n",
    "b = 3\n",
    "c = a + b\n",
    "print(c)"
   ]
  },
  {
   "cell_type": "markdown",
   "metadata": {},
   "source": [
    "### Keystrokes and Buttons\n",
    "\n",
    "Keystrokes directly entered by a keyboard or buttons that are indicated on programs or web pages are shown inside square brackets in ```[monospaced font]```.\n",
    "\n",
    " > To delete a line, use the ```[Backspace]``` key. To exit the shell, type ```[Ctrl] + [c]```"
   ]
  }
 ],
 "metadata": {
  "kernelspec": {
   "display_name": "Python 3",
   "language": "python",
   "name": "python3"
  },
  "language_info": {
   "codemirror_mode": {
    "name": "ipython",
    "version": 3
   },
   "file_extension": ".py",
   "mimetype": "text/x-python",
   "name": "python",
   "nbconvert_exporter": "python",
   "pygments_lexer": "ipython3",
   "version": "3.9.12"
  }
 },
 "nbformat": 4,
 "nbformat_minor": 4
}
